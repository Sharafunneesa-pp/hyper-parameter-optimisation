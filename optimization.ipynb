{
 "cells": [
  {
   "cell_type": "code",
   "execution_count": 319,
   "id": "7f3487d6",
   "metadata": {},
   "outputs": [],
   "source": [
    "import pandas as pd\n",
    "import numpy as np\n",
    "data=pd.read_csv(\"diabetes.csv\")\n",
    "import warnings\n",
    "warnings.filterwarnings(\"ignore\")"
   ]
  },
  {
   "cell_type": "code",
   "execution_count": 320,
   "id": "d7737ad9",
   "metadata": {},
   "outputs": [
    {
     "data": {
      "text/html": [
       "<div>\n",
       "<style scoped>\n",
       "    .dataframe tbody tr th:only-of-type {\n",
       "        vertical-align: middle;\n",
       "    }\n",
       "\n",
       "    .dataframe tbody tr th {\n",
       "        vertical-align: top;\n",
       "    }\n",
       "\n",
       "    .dataframe thead th {\n",
       "        text-align: right;\n",
       "    }\n",
       "</style>\n",
       "<table border=\"1\" class=\"dataframe\">\n",
       "  <thead>\n",
       "    <tr style=\"text-align: right;\">\n",
       "      <th></th>\n",
       "      <th>Pregnancies</th>\n",
       "      <th>Glucose</th>\n",
       "      <th>BloodPressure</th>\n",
       "      <th>SkinThickness</th>\n",
       "      <th>Insulin</th>\n",
       "      <th>BMI</th>\n",
       "      <th>DiabetesPedigreeFunction</th>\n",
       "      <th>Age</th>\n",
       "      <th>Outcome</th>\n",
       "    </tr>\n",
       "  </thead>\n",
       "  <tbody>\n",
       "    <tr>\n",
       "      <th>0</th>\n",
       "      <td>6</td>\n",
       "      <td>148</td>\n",
       "      <td>72</td>\n",
       "      <td>35</td>\n",
       "      <td>0</td>\n",
       "      <td>33.6</td>\n",
       "      <td>0.627</td>\n",
       "      <td>50</td>\n",
       "      <td>1</td>\n",
       "    </tr>\n",
       "    <tr>\n",
       "      <th>1</th>\n",
       "      <td>1</td>\n",
       "      <td>85</td>\n",
       "      <td>66</td>\n",
       "      <td>29</td>\n",
       "      <td>0</td>\n",
       "      <td>26.6</td>\n",
       "      <td>0.351</td>\n",
       "      <td>31</td>\n",
       "      <td>0</td>\n",
       "    </tr>\n",
       "    <tr>\n",
       "      <th>2</th>\n",
       "      <td>8</td>\n",
       "      <td>183</td>\n",
       "      <td>64</td>\n",
       "      <td>0</td>\n",
       "      <td>0</td>\n",
       "      <td>23.3</td>\n",
       "      <td>0.672</td>\n",
       "      <td>32</td>\n",
       "      <td>1</td>\n",
       "    </tr>\n",
       "    <tr>\n",
       "      <th>3</th>\n",
       "      <td>1</td>\n",
       "      <td>89</td>\n",
       "      <td>66</td>\n",
       "      <td>23</td>\n",
       "      <td>94</td>\n",
       "      <td>28.1</td>\n",
       "      <td>0.167</td>\n",
       "      <td>21</td>\n",
       "      <td>0</td>\n",
       "    </tr>\n",
       "    <tr>\n",
       "      <th>4</th>\n",
       "      <td>0</td>\n",
       "      <td>137</td>\n",
       "      <td>40</td>\n",
       "      <td>35</td>\n",
       "      <td>168</td>\n",
       "      <td>43.1</td>\n",
       "      <td>2.288</td>\n",
       "      <td>33</td>\n",
       "      <td>1</td>\n",
       "    </tr>\n",
       "  </tbody>\n",
       "</table>\n",
       "</div>"
      ],
      "text/plain": [
       "   Pregnancies  Glucose  BloodPressure  SkinThickness  Insulin   BMI  \\\n",
       "0            6      148             72             35        0  33.6   \n",
       "1            1       85             66             29        0  26.6   \n",
       "2            8      183             64              0        0  23.3   \n",
       "3            1       89             66             23       94  28.1   \n",
       "4            0      137             40             35      168  43.1   \n",
       "\n",
       "   DiabetesPedigreeFunction  Age  Outcome  \n",
       "0                     0.627   50        1  \n",
       "1                     0.351   31        0  \n",
       "2                     0.672   32        1  \n",
       "3                     0.167   21        0  \n",
       "4                     2.288   33        1  "
      ]
     },
     "execution_count": 320,
     "metadata": {},
     "output_type": "execute_result"
    }
   ],
   "source": [
    "data.head()"
   ]
  },
  {
   "cell_type": "code",
   "execution_count": null,
   "id": "f38d71f8",
   "metadata": {},
   "outputs": [],
   "source": []
  },
  {
   "cell_type": "code",
   "execution_count": 321,
   "id": "17459536",
   "metadata": {},
   "outputs": [
    {
     "data": {
      "text/plain": [
       "array([148,  85, 183,  89, 137, 116,  78, 115, 197, 125, 110, 168, 139,\n",
       "       189, 166, 100, 118, 107, 103, 126,  99, 196, 119, 143, 147,  97,\n",
       "       145, 117, 109, 158,  88,  92, 122, 138, 102,  90, 111, 180, 133,\n",
       "       106, 171, 159, 146,  71, 105, 101, 176, 150,  73, 187,  84,  44,\n",
       "       141, 114,  95, 129,  79,   0,  62, 131, 112, 113,  74,  83, 136,\n",
       "        80, 123,  81, 134, 142, 144,  93, 163, 151,  96, 155,  76, 160,\n",
       "       124, 162, 132, 120, 173, 170, 128, 108, 154,  57, 156, 153, 188,\n",
       "       152, 104,  87,  75, 179, 130, 194, 181, 135, 184, 140, 177, 164,\n",
       "        91, 165,  86, 193, 191, 161, 167,  77, 182, 157, 178,  61,  98,\n",
       "       127,  82,  72, 172,  94, 175, 195,  68, 186, 198, 121,  67, 174,\n",
       "       199,  56, 169, 149,  65, 190])"
      ]
     },
     "execution_count": 321,
     "metadata": {},
     "output_type": "execute_result"
    }
   ],
   "source": [
    "data[\"Glucose\"].unique()"
   ]
  },
  {
   "cell_type": "code",
   "execution_count": 322,
   "id": "82922ff6",
   "metadata": {},
   "outputs": [],
   "source": [
    "data[\"Glucose\"]=np.where(data[\"Glucose\"]==0,data[\"Glucose\"].mean(),data[\"Glucose\"])"
   ]
  },
  {
   "cell_type": "code",
   "execution_count": 323,
   "id": "f8502b25",
   "metadata": {},
   "outputs": [
    {
     "data": {
      "text/plain": [
       "array([148.        ,  85.        , 183.        ,  89.        ,\n",
       "       137.        , 116.        ,  78.        , 115.        ,\n",
       "       197.        , 125.        , 110.        , 168.        ,\n",
       "       139.        , 189.        , 166.        , 100.        ,\n",
       "       118.        , 107.        , 103.        , 126.        ,\n",
       "        99.        , 196.        , 119.        , 143.        ,\n",
       "       147.        ,  97.        , 145.        , 117.        ,\n",
       "       109.        , 158.        ,  88.        ,  92.        ,\n",
       "       122.        , 138.        , 102.        ,  90.        ,\n",
       "       111.        , 180.        , 133.        , 106.        ,\n",
       "       171.        , 159.        , 146.        ,  71.        ,\n",
       "       105.        , 101.        , 176.        , 150.        ,\n",
       "        73.        , 187.        ,  84.        ,  44.        ,\n",
       "       141.        , 114.        ,  95.        , 129.        ,\n",
       "        79.        , 120.89453125,  62.        , 131.        ,\n",
       "       112.        , 113.        ,  74.        ,  83.        ,\n",
       "       136.        ,  80.        , 123.        ,  81.        ,\n",
       "       134.        , 142.        , 144.        ,  93.        ,\n",
       "       163.        , 151.        ,  96.        , 155.        ,\n",
       "        76.        , 160.        , 124.        , 162.        ,\n",
       "       132.        , 120.        , 173.        , 170.        ,\n",
       "       128.        , 108.        , 154.        ,  57.        ,\n",
       "       156.        , 153.        , 188.        , 152.        ,\n",
       "       104.        ,  87.        ,  75.        , 179.        ,\n",
       "       130.        , 194.        , 181.        , 135.        ,\n",
       "       184.        , 140.        , 177.        , 164.        ,\n",
       "        91.        , 165.        ,  86.        , 193.        ,\n",
       "       191.        , 161.        , 167.        ,  77.        ,\n",
       "       182.        , 157.        , 178.        ,  61.        ,\n",
       "        98.        , 127.        ,  82.        ,  72.        ,\n",
       "       172.        ,  94.        , 175.        , 195.        ,\n",
       "        68.        , 186.        , 198.        , 121.        ,\n",
       "        67.        , 174.        , 199.        ,  56.        ,\n",
       "       169.        , 149.        ,  65.        , 190.        ])"
      ]
     },
     "execution_count": 323,
     "metadata": {},
     "output_type": "execute_result"
    }
   ],
   "source": [
    "data[\"Glucose\"].unique()"
   ]
  },
  {
   "cell_type": "code",
   "execution_count": 324,
   "id": "c251130d",
   "metadata": {},
   "outputs": [],
   "source": [
    "data[\"Insulin\"]=np.where(data[\"Insulin\"]==0,data[\"Insulin\"].mean(),data[\"Insulin\"])\n",
    "data[\"SkinThickness\"]=np.where(data[\"SkinThickness\"]==0,data[\"SkinThickness\"].mean(),data[\"SkinThickness\"])\n"
   ]
  },
  {
   "cell_type": "code",
   "execution_count": 325,
   "id": "c7fed720",
   "metadata": {},
   "outputs": [],
   "source": [
    "x=data.drop(\"Outcome\",axis=1)\n",
    "y=data[\"Outcome\"]"
   ]
  },
  {
   "cell_type": "code",
   "execution_count": 326,
   "id": "7db1dfd6",
   "metadata": {},
   "outputs": [
    {
     "data": {
      "text/html": [
       "<div>\n",
       "<style scoped>\n",
       "    .dataframe tbody tr th:only-of-type {\n",
       "        vertical-align: middle;\n",
       "    }\n",
       "\n",
       "    .dataframe tbody tr th {\n",
       "        vertical-align: top;\n",
       "    }\n",
       "\n",
       "    .dataframe thead th {\n",
       "        text-align: right;\n",
       "    }\n",
       "</style>\n",
       "<table border=\"1\" class=\"dataframe\">\n",
       "  <thead>\n",
       "    <tr style=\"text-align: right;\">\n",
       "      <th></th>\n",
       "      <th>Pregnancies</th>\n",
       "      <th>Glucose</th>\n",
       "      <th>BloodPressure</th>\n",
       "      <th>SkinThickness</th>\n",
       "      <th>Insulin</th>\n",
       "      <th>BMI</th>\n",
       "      <th>DiabetesPedigreeFunction</th>\n",
       "      <th>Age</th>\n",
       "    </tr>\n",
       "  </thead>\n",
       "  <tbody>\n",
       "    <tr>\n",
       "      <th>0</th>\n",
       "      <td>6</td>\n",
       "      <td>148.0</td>\n",
       "      <td>72</td>\n",
       "      <td>35.000000</td>\n",
       "      <td>79.799479</td>\n",
       "      <td>33.6</td>\n",
       "      <td>0.627</td>\n",
       "      <td>50</td>\n",
       "    </tr>\n",
       "    <tr>\n",
       "      <th>1</th>\n",
       "      <td>1</td>\n",
       "      <td>85.0</td>\n",
       "      <td>66</td>\n",
       "      <td>29.000000</td>\n",
       "      <td>79.799479</td>\n",
       "      <td>26.6</td>\n",
       "      <td>0.351</td>\n",
       "      <td>31</td>\n",
       "    </tr>\n",
       "    <tr>\n",
       "      <th>2</th>\n",
       "      <td>8</td>\n",
       "      <td>183.0</td>\n",
       "      <td>64</td>\n",
       "      <td>20.536458</td>\n",
       "      <td>79.799479</td>\n",
       "      <td>23.3</td>\n",
       "      <td>0.672</td>\n",
       "      <td>32</td>\n",
       "    </tr>\n",
       "    <tr>\n",
       "      <th>3</th>\n",
       "      <td>1</td>\n",
       "      <td>89.0</td>\n",
       "      <td>66</td>\n",
       "      <td>23.000000</td>\n",
       "      <td>94.000000</td>\n",
       "      <td>28.1</td>\n",
       "      <td>0.167</td>\n",
       "      <td>21</td>\n",
       "    </tr>\n",
       "    <tr>\n",
       "      <th>4</th>\n",
       "      <td>0</td>\n",
       "      <td>137.0</td>\n",
       "      <td>40</td>\n",
       "      <td>35.000000</td>\n",
       "      <td>168.000000</td>\n",
       "      <td>43.1</td>\n",
       "      <td>2.288</td>\n",
       "      <td>33</td>\n",
       "    </tr>\n",
       "    <tr>\n",
       "      <th>...</th>\n",
       "      <td>...</td>\n",
       "      <td>...</td>\n",
       "      <td>...</td>\n",
       "      <td>...</td>\n",
       "      <td>...</td>\n",
       "      <td>...</td>\n",
       "      <td>...</td>\n",
       "      <td>...</td>\n",
       "    </tr>\n",
       "    <tr>\n",
       "      <th>763</th>\n",
       "      <td>10</td>\n",
       "      <td>101.0</td>\n",
       "      <td>76</td>\n",
       "      <td>48.000000</td>\n",
       "      <td>180.000000</td>\n",
       "      <td>32.9</td>\n",
       "      <td>0.171</td>\n",
       "      <td>63</td>\n",
       "    </tr>\n",
       "    <tr>\n",
       "      <th>764</th>\n",
       "      <td>2</td>\n",
       "      <td>122.0</td>\n",
       "      <td>70</td>\n",
       "      <td>27.000000</td>\n",
       "      <td>79.799479</td>\n",
       "      <td>36.8</td>\n",
       "      <td>0.340</td>\n",
       "      <td>27</td>\n",
       "    </tr>\n",
       "    <tr>\n",
       "      <th>765</th>\n",
       "      <td>5</td>\n",
       "      <td>121.0</td>\n",
       "      <td>72</td>\n",
       "      <td>23.000000</td>\n",
       "      <td>112.000000</td>\n",
       "      <td>26.2</td>\n",
       "      <td>0.245</td>\n",
       "      <td>30</td>\n",
       "    </tr>\n",
       "    <tr>\n",
       "      <th>766</th>\n",
       "      <td>1</td>\n",
       "      <td>126.0</td>\n",
       "      <td>60</td>\n",
       "      <td>20.536458</td>\n",
       "      <td>79.799479</td>\n",
       "      <td>30.1</td>\n",
       "      <td>0.349</td>\n",
       "      <td>47</td>\n",
       "    </tr>\n",
       "    <tr>\n",
       "      <th>767</th>\n",
       "      <td>1</td>\n",
       "      <td>93.0</td>\n",
       "      <td>70</td>\n",
       "      <td>31.000000</td>\n",
       "      <td>79.799479</td>\n",
       "      <td>30.4</td>\n",
       "      <td>0.315</td>\n",
       "      <td>23</td>\n",
       "    </tr>\n",
       "  </tbody>\n",
       "</table>\n",
       "<p>768 rows × 8 columns</p>\n",
       "</div>"
      ],
      "text/plain": [
       "     Pregnancies  Glucose  BloodPressure  SkinThickness     Insulin   BMI  \\\n",
       "0              6    148.0             72      35.000000   79.799479  33.6   \n",
       "1              1     85.0             66      29.000000   79.799479  26.6   \n",
       "2              8    183.0             64      20.536458   79.799479  23.3   \n",
       "3              1     89.0             66      23.000000   94.000000  28.1   \n",
       "4              0    137.0             40      35.000000  168.000000  43.1   \n",
       "..           ...      ...            ...            ...         ...   ...   \n",
       "763           10    101.0             76      48.000000  180.000000  32.9   \n",
       "764            2    122.0             70      27.000000   79.799479  36.8   \n",
       "765            5    121.0             72      23.000000  112.000000  26.2   \n",
       "766            1    126.0             60      20.536458   79.799479  30.1   \n",
       "767            1     93.0             70      31.000000   79.799479  30.4   \n",
       "\n",
       "     DiabetesPedigreeFunction  Age  \n",
       "0                       0.627   50  \n",
       "1                       0.351   31  \n",
       "2                       0.672   32  \n",
       "3                       0.167   21  \n",
       "4                       2.288   33  \n",
       "..                        ...  ...  \n",
       "763                     0.171   63  \n",
       "764                     0.340   27  \n",
       "765                     0.245   30  \n",
       "766                     0.349   47  \n",
       "767                     0.315   23  \n",
       "\n",
       "[768 rows x 8 columns]"
      ]
     },
     "execution_count": 326,
     "metadata": {},
     "output_type": "execute_result"
    }
   ],
   "source": [
    "x"
   ]
  },
  {
   "cell_type": "code",
   "execution_count": 327,
   "id": "197f6478",
   "metadata": {},
   "outputs": [],
   "source": [
    "from sklearn.model_selection import train_test_split\n",
    "xtrain,xtest,ytrain,ytest=train_test_split(x,y, test_size=0.25,random_state=0)"
   ]
  },
  {
   "cell_type": "code",
   "execution_count": 328,
   "id": "59a5d8e2",
   "metadata": {},
   "outputs": [],
   "source": [
    "from sklearn.ensemble import RandomForestClassifier\n",
    "rf=RandomForestClassifier(n_estimators=10).fit(xtrain,ytrain)\n",
    "ypred=rf.predict(xtest)"
   ]
  },
  {
   "cell_type": "code",
   "execution_count": 329,
   "id": "d6046c20",
   "metadata": {},
   "outputs": [
    {
     "data": {
      "text/plain": [
       "0.765625"
      ]
     },
     "execution_count": 329,
     "metadata": {},
     "output_type": "execute_result"
    }
   ],
   "source": [
    "from sklearn.metrics import confusion_matrix,accuracy_score,classification_report\n",
    "cm=confusion_matrix(ypred,ytest)\n",
    "ac=accuracy_score(ypred,ytest)\n",
    "ac"
   ]
  },
  {
   "cell_type": "code",
   "execution_count": 330,
   "id": "3d60fa06",
   "metadata": {},
   "outputs": [],
   "source": [
    "rf=RandomForestClassifier(criterion='entropy',min_samples_leaf=10,max_features='sqrt',n_estimators=500).fit(xtrain,ytrain)"
   ]
  },
  {
   "cell_type": "code",
   "execution_count": 331,
   "id": "e4df25be",
   "metadata": {},
   "outputs": [
    {
     "data": {
      "text/plain": [
       "0.7708333333333334"
      ]
     },
     "execution_count": 331,
     "metadata": {},
     "output_type": "execute_result"
    }
   ],
   "source": [
    "ypred=rf.predict(xtest)\n",
    "cm=confusion_matrix(ypred,ytest)\n",
    "\n",
    "ac=accuracy_score(ypred,ytest)\n",
    "ac"
   ]
  },
  {
   "cell_type": "code",
   "execution_count": 332,
   "id": "cb182323",
   "metadata": {},
   "outputs": [],
   "source": [
    "from sklearn.model_selection import RandomizedSearchCV\n",
    "n_estimators=[int(x) for x in np.linspace(200,2000,10)]\n",
    "criterion=[\"entropy\",\"gini\"]\n",
    "max_depth=[int(x) for x in np.linspace(100,1000,10)]\n",
    "max_features=[\"sqrt\",\"log2\",\"auto\"]\n",
    "min_samples_split=[1,2,3,5,7,9]\n",
    "min_samples_leaf=[1,2,5,6,8,9]"
   ]
  },
  {
   "cell_type": "code",
   "execution_count": 333,
   "id": "64e4ff49",
   "metadata": {},
   "outputs": [],
   "source": [
    "random_grid={\"n_estimators\":n_estimators,\"criterion\":criterion,\"max_depth\":max_depth,\"max_features\":max_features,\"min_samples_split\":min_samples_split,\"min_samples_leaf\":min_samples_leaf}"
   ]
  },
  {
   "cell_type": "code",
   "execution_count": 334,
   "id": "6aa1520e",
   "metadata": {},
   "outputs": [],
   "source": [
    "\n",
    "rf=RandomForestClassifier()\n",
    "rs=RandomizedSearchCV(estimator=rf,param_distributions=random_grid,n_iter=100,cv=3,verbose=2,random_state=100,n_jobs=-1)\n"
   ]
  },
  {
   "cell_type": "code",
   "execution_count": 335,
   "id": "9bb61d68",
   "metadata": {},
   "outputs": [
    {
     "name": "stdout",
     "output_type": "stream",
     "text": [
      "Fitting 3 folds for each of 100 candidates, totalling 300 fits\n",
      "[CV] END criterion=gini, max_depth=200, max_features=sqrt, min_samples_leaf=6, min_samples_split=9, n_estimators=2000; total time=   1.4s\n",
      "[CV] END criterion=gini, max_depth=600, max_features=log2, min_samples_leaf=5, min_samples_split=9, n_estimators=1000; total time=   0.8s\n",
      "[CV] END criterion=entropy, max_depth=800, max_features=sqrt, min_samples_leaf=9, min_samples_split=7, n_estimators=1400; total time=   1.0s\n",
      "[CV] END criterion=gini, max_depth=100, max_features=log2, min_samples_leaf=9, min_samples_split=5, n_estimators=600; total time=   0.5s\n",
      "[CV] END criterion=gini, max_depth=100, max_features=sqrt, min_samples_leaf=9, min_samples_split=9, n_estimators=600; total time=   0.4s\n",
      "[CV] END criterion=gini, max_depth=100, max_features=sqrt, min_samples_leaf=9, min_samples_split=9, n_estimators=600; total time=   0.4s\n",
      "[CV] END criterion=gini, max_depth=800, max_features=log2, min_samples_leaf=2, min_samples_split=5, n_estimators=1800; total time=   1.6s\n",
      "[CV] END criterion=gini, max_depth=200, max_features=sqrt, min_samples_leaf=9, min_samples_split=5, n_estimators=2000; total time=   1.4s\n",
      "[CV] END criterion=gini, max_depth=900, max_features=sqrt, min_samples_leaf=6, min_samples_split=2, n_estimators=1600; total time=   1.1s\n",
      "[CV] END criterion=gini, max_depth=200, max_features=log2, min_samples_leaf=9, min_samples_split=5, n_estimators=400; total time=   0.3s\n",
      "[CV] END criterion=entropy, max_depth=700, max_features=log2, min_samples_leaf=6, min_samples_split=9, n_estimators=1000; total time=   0.8s\n",
      "[CV] END criterion=gini, max_depth=1000, max_features=log2, min_samples_leaf=1, min_samples_split=5, n_estimators=1600; total time=   1.4s\n",
      "[CV] END criterion=gini, max_depth=800, max_features=log2, min_samples_leaf=8, min_samples_split=9, n_estimators=1000; total time=   0.7s\n",
      "[CV] END criterion=entropy, max_depth=200, max_features=log2, min_samples_leaf=6, min_samples_split=7, n_estimators=1600; total time=   1.3s\n",
      "[CV] END criterion=gini, max_depth=300, max_features=log2, min_samples_leaf=5, min_samples_split=7, n_estimators=1800; total time=   1.4s\n",
      "[CV] END criterion=entropy, max_depth=200, max_features=log2, min_samples_leaf=9, min_samples_split=9, n_estimators=1600; total time=   1.2s\n",
      "[CV] END criterion=gini, max_depth=400, max_features=log2, min_samples_leaf=8, min_samples_split=2, n_estimators=200; total time=   0.2s\n",
      "[CV] END criterion=gini, max_depth=400, max_features=log2, min_samples_leaf=1, min_samples_split=5, n_estimators=1800; total time=   1.5s\n",
      "[CV] END criterion=entropy, max_depth=800, max_features=auto, min_samples_leaf=5, min_samples_split=2, n_estimators=1800; total time=   0.0s\n",
      "[CV] END criterion=entropy, max_depth=800, max_features=auto, min_samples_leaf=5, min_samples_split=2, n_estimators=1800; total time=   0.0s\n",
      "[CV] END criterion=entropy, max_depth=800, max_features=auto, min_samples_leaf=5, min_samples_split=2, n_estimators=1800; total time=   0.0s\n",
      "[CV] END criterion=entropy, max_depth=500, max_features=log2, min_samples_leaf=6, min_samples_split=9, n_estimators=1000; total time=   0.6s\n",
      "[CV] END criterion=gini, max_depth=200, max_features=sqrt, min_samples_leaf=6, min_samples_split=9, n_estimators=2000; total time=   1.5s\n",
      "[CV] END criterion=gini, max_depth=600, max_features=log2, min_samples_leaf=5, min_samples_split=9, n_estimators=1000; total time=   0.8s\n",
      "[CV] END criterion=gini, max_depth=600, max_features=log2, min_samples_leaf=5, min_samples_split=9, n_estimators=1000; total time=   0.8s\n",
      "[CV] END criterion=gini, max_depth=1000, max_features=sqrt, min_samples_leaf=8, min_samples_split=1, n_estimators=200; total time=   0.0s\n",
      "[CV] END criterion=gini, max_depth=1000, max_features=sqrt, min_samples_leaf=8, min_samples_split=1, n_estimators=200; total time=   0.0s\n",
      "[CV] END criterion=gini, max_depth=100, max_features=log2, min_samples_leaf=9, min_samples_split=5, n_estimators=600; total time=   0.5s\n",
      "[CV] END criterion=gini, max_depth=100, max_features=log2, min_samples_leaf=9, min_samples_split=5, n_estimators=600; total time=   0.5s\n",
      "[CV] END criterion=gini, max_depth=500, max_features=sqrt, min_samples_leaf=9, min_samples_split=5, n_estimators=800; total time=   0.6s\n",
      "[CV] END criterion=entropy, max_depth=600, max_features=auto, min_samples_leaf=2, min_samples_split=9, n_estimators=200; total time=   0.0s\n",
      "[CV] END criterion=gini, max_depth=700, max_features=auto, min_samples_leaf=8, min_samples_split=7, n_estimators=1000; total time=   0.0s\n",
      "[CV] END criterion=gini, max_depth=700, max_features=auto, min_samples_leaf=8, min_samples_split=7, n_estimators=1000; total time=   0.0s\n",
      "[CV] END criterion=gini, max_depth=700, max_features=auto, min_samples_leaf=8, min_samples_split=7, n_estimators=1000; total time=   0.0s\n",
      "[CV] END criterion=gini, max_depth=1000, max_features=auto, min_samples_leaf=5, min_samples_split=2, n_estimators=1600; total time=   0.0s\n",
      "[CV] END criterion=gini, max_depth=1000, max_features=auto, min_samples_leaf=5, min_samples_split=2, n_estimators=1600; total time=   0.0s\n",
      "[CV] END criterion=gini, max_depth=1000, max_features=auto, min_samples_leaf=5, min_samples_split=2, n_estimators=1600; total time=   0.0s\n",
      "[CV] END criterion=entropy, max_depth=300, max_features=auto, min_samples_leaf=9, min_samples_split=5, n_estimators=800; total time=   0.0s\n",
      "[CV] END criterion=entropy, max_depth=300, max_features=auto, min_samples_leaf=9, min_samples_split=5, n_estimators=800; total time=   0.0s\n",
      "[CV] END criterion=entropy, max_depth=300, max_features=auto, min_samples_leaf=9, min_samples_split=5, n_estimators=800; total time=   0.0s\n",
      "[CV] END criterion=entropy, max_depth=700, max_features=log2, min_samples_leaf=2, min_samples_split=1, n_estimators=400; total time=   0.0s\n",
      "[CV] END criterion=entropy, max_depth=700, max_features=log2, min_samples_leaf=2, min_samples_split=1, n_estimators=400; total time=   0.0s\n",
      "[CV] END criterion=entropy, max_depth=700, max_features=log2, min_samples_leaf=2, min_samples_split=1, n_estimators=400; total time=   0.0s\n",
      "[CV] END criterion=gini, max_depth=200, max_features=auto, min_samples_leaf=9, min_samples_split=1, n_estimators=200; total time=   0.0s\n",
      "[CV] END criterion=gini, max_depth=200, max_features=auto, min_samples_leaf=9, min_samples_split=1, n_estimators=200; total time=   0.0s\n",
      "[CV] END criterion=gini, max_depth=200, max_features=auto, min_samples_leaf=9, min_samples_split=1, n_estimators=200; total time=   0.0s\n",
      "[CV] END criterion=gini, max_depth=100, max_features=sqrt, min_samples_leaf=1, min_samples_split=7, n_estimators=800; total time=   0.6s\n",
      "[CV] END criterion=gini, max_depth=800, max_features=auto, min_samples_leaf=6, min_samples_split=1, n_estimators=1600; total time=   0.0s\n",
      "[CV] END criterion=gini, max_depth=800, max_features=auto, min_samples_leaf=6, min_samples_split=1, n_estimators=1600; total time=   0.0s\n",
      "[CV] END criterion=gini, max_depth=1000, max_features=sqrt, min_samples_leaf=2, min_samples_split=5, n_estimators=1200; total time=   0.9s\n",
      "[CV] END criterion=gini, max_depth=1000, max_features=sqrt, min_samples_leaf=2, min_samples_split=5, n_estimators=1200; total time=   0.9s\n",
      "[CV] END criterion=gini, max_depth=600, max_features=sqrt, min_samples_leaf=6, min_samples_split=1, n_estimators=1400; total time=   0.0s\n",
      "[CV] END criterion=gini, max_depth=600, max_features=sqrt, min_samples_leaf=6, min_samples_split=1, n_estimators=1400; total time=   0.0s\n",
      "[CV] END criterion=entropy, max_depth=100, max_features=auto, min_samples_leaf=5, min_samples_split=7, n_estimators=2000; total time=   0.0s\n",
      "[CV] END criterion=entropy, max_depth=100, max_features=auto, min_samples_leaf=5, min_samples_split=7, n_estimators=2000; total time=   0.0s\n",
      "[CV] END criterion=entropy, max_depth=100, max_features=auto, min_samples_leaf=5, min_samples_split=7, n_estimators=2000; total time=   0.0s\n",
      "[CV] END criterion=entropy, max_depth=500, max_features=log2, min_samples_leaf=1, min_samples_split=5, n_estimators=800; total time=   0.8s\n",
      "[CV] END criterion=gini, max_depth=900, max_features=auto, min_samples_leaf=6, min_samples_split=7, n_estimators=600; total time=   0.0s\n",
      "[CV] END criterion=gini, max_depth=900, max_features=auto, min_samples_leaf=6, min_samples_split=7, n_estimators=600; total time=   0.0s\n",
      "[CV] END criterion=gini, max_depth=900, max_features=auto, min_samples_leaf=6, min_samples_split=7, n_estimators=600; total time=   0.0s\n",
      "[CV] END criterion=entropy, max_depth=300, max_features=auto, min_samples_leaf=2, min_samples_split=9, n_estimators=600; total time=   0.0s\n",
      "[CV] END criterion=entropy, max_depth=300, max_features=auto, min_samples_leaf=2, min_samples_split=9, n_estimators=600; total time=   0.0s\n",
      "[CV] END criterion=entropy, max_depth=300, max_features=auto, min_samples_leaf=2, min_samples_split=9, n_estimators=600; total time=   0.0s\n",
      "[CV] END criterion=gini, max_depth=100, max_features=auto, min_samples_leaf=1, min_samples_split=7, n_estimators=1600; total time=   0.0s\n",
      "[CV] END criterion=gini, max_depth=100, max_features=auto, min_samples_leaf=1, min_samples_split=7, n_estimators=1600; total time=   0.0s\n",
      "[CV] END criterion=gini, max_depth=100, max_features=auto, min_samples_leaf=1, min_samples_split=7, n_estimators=1600; total time=   0.0s\n",
      "[CV] END criterion=entropy, max_depth=400, max_features=log2, min_samples_leaf=9, min_samples_split=7, n_estimators=2000; total time=   1.6s\n",
      "[CV] END criterion=gini, max_depth=1000, max_features=log2, min_samples_leaf=1, min_samples_split=5, n_estimators=1600; total time=   1.4s\n",
      "[CV] END criterion=gini, max_depth=1000, max_features=sqrt, min_samples_leaf=6, min_samples_split=9, n_estimators=800; total time=   0.6s\n",
      "[CV] END criterion=entropy, max_depth=700, max_features=auto, min_samples_leaf=1, min_samples_split=3, n_estimators=400; total time=   0.0s\n",
      "[CV] END criterion=entropy, max_depth=700, max_features=auto, min_samples_leaf=1, min_samples_split=3, n_estimators=400; total time=   0.0s\n",
      "[CV] END criterion=entropy, max_depth=700, max_features=auto, min_samples_leaf=1, min_samples_split=3, n_estimators=400; total time=   0.0s\n",
      "[CV] END criterion=entropy, max_depth=600, max_features=auto, min_samples_leaf=2, min_samples_split=5, n_estimators=600; total time=   0.0s\n",
      "[CV] END criterion=entropy, max_depth=600, max_features=auto, min_samples_leaf=2, min_samples_split=5, n_estimators=600; total time=   0.0s\n",
      "[CV] END criterion=entropy, max_depth=100, max_features=log2, min_samples_leaf=5, min_samples_split=1, n_estimators=1800; total time=   0.0s\n",
      "[CV] END criterion=entropy, max_depth=100, max_features=log2, min_samples_leaf=5, min_samples_split=1, n_estimators=1800; total time=   0.0s\n",
      "[CV] END criterion=gini, max_depth=900, max_features=log2, min_samples_leaf=1, min_samples_split=1, n_estimators=800; total time=   0.0s\n",
      "[CV] END criterion=gini, max_depth=900, max_features=log2, min_samples_leaf=1, min_samples_split=1, n_estimators=800; total time=   0.0s\n",
      "[CV] END criterion=gini, max_depth=500, max_features=sqrt, min_samples_leaf=2, min_samples_split=1, n_estimators=600; total time=   0.0s\n",
      "[CV] END criterion=gini, max_depth=500, max_features=sqrt, min_samples_leaf=2, min_samples_split=1, n_estimators=600; total time=   0.0s\n",
      "[CV] END criterion=gini, max_depth=500, max_features=sqrt, min_samples_leaf=2, min_samples_split=1, n_estimators=600; total time=   0.0s\n",
      "[CV] END criterion=gini, max_depth=500, max_features=sqrt, min_samples_leaf=8, min_samples_split=1, n_estimators=200; total time=   0.0s\n",
      "[CV] END criterion=gini, max_depth=500, max_features=sqrt, min_samples_leaf=8, min_samples_split=1, n_estimators=200; total time=   0.0s\n",
      "[CV] END criterion=entropy, max_depth=400, max_features=auto, min_samples_leaf=5, min_samples_split=3, n_estimators=2000; total time=   0.0s\n",
      "[CV] END criterion=entropy, max_depth=500, max_features=auto, min_samples_leaf=8, min_samples_split=3, n_estimators=1200; total time=   0.0s\n",
      "[CV] END criterion=entropy, max_depth=1000, max_features=auto, min_samples_leaf=5, min_samples_split=7, n_estimators=600; total time=   0.0s\n",
      "[CV] END criterion=entropy, max_depth=400, max_features=auto, min_samples_leaf=8, min_samples_split=3, n_estimators=1600; total time=   0.0s\n",
      "[CV] END criterion=gini, max_depth=800, max_features=log2, min_samples_leaf=8, min_samples_split=9, n_estimators=1000; total time=   0.8s\n",
      "[CV] END criterion=gini, max_depth=300, max_features=log2, min_samples_leaf=6, min_samples_split=3, n_estimators=1600; total time=   1.2s\n",
      "[CV] END criterion=gini, max_depth=1000, max_features=log2, min_samples_leaf=2, min_samples_split=5, n_estimators=1200; total time=   1.1s\n",
      "[CV] END criterion=entropy, max_depth=400, max_features=sqrt, min_samples_leaf=1, min_samples_split=7, n_estimators=1400; total time=   1.2s\n",
      "[CV] END criterion=entropy, max_depth=400, max_features=sqrt, min_samples_leaf=1, min_samples_split=7, n_estimators=1400; total time=   1.1s\n",
      "[CV] END criterion=entropy, max_depth=1000, max_features=sqrt, min_samples_leaf=6, min_samples_split=2, n_estimators=400; total time=   0.3s\n",
      "[CV] END criterion=entropy, max_depth=1000, max_features=sqrt, min_samples_leaf=6, min_samples_split=2, n_estimators=400; total time=   0.3s\n",
      "[CV] END criterion=gini, max_depth=700, max_features=log2, min_samples_leaf=6, min_samples_split=7, n_estimators=200; total time=   0.2s\n",
      "[CV] END criterion=entropy, max_depth=600, max_features=sqrt, min_samples_leaf=8, min_samples_split=1, n_estimators=200; total time=   0.0s\n",
      "[CV] END criterion=entropy, max_depth=600, max_features=sqrt, min_samples_leaf=8, min_samples_split=1, n_estimators=200; total time=   0.0s\n",
      "[CV] END criterion=entropy, max_depth=600, max_features=sqrt, min_samples_leaf=8, min_samples_split=1, n_estimators=200; total time=   0.0s\n",
      "[CV] END criterion=gini, max_depth=400, max_features=sqrt, min_samples_leaf=2, min_samples_split=7, n_estimators=1600; total time=   1.5s\n",
      "[CV] END criterion=entropy, max_depth=100, max_features=sqrt, min_samples_leaf=2, min_samples_split=2, n_estimators=2000; total time=   1.7s\n",
      "[CV] END criterion=entropy, max_depth=600, max_features=sqrt, min_samples_leaf=8, min_samples_split=1, n_estimators=1400; total time=   0.0s\n",
      "[CV] END criterion=entropy, max_depth=600, max_features=sqrt, min_samples_leaf=8, min_samples_split=1, n_estimators=1400; total time=   0.0s\n",
      "[CV] END criterion=gini, max_depth=600, max_features=auto, min_samples_leaf=8, min_samples_split=3, n_estimators=1400; total time=   0.0s\n",
      "[CV] END criterion=gini, max_depth=600, max_features=auto, min_samples_leaf=8, min_samples_split=3, n_estimators=1400; total time=   0.0s\n",
      "[CV] END criterion=gini, max_depth=600, max_features=auto, min_samples_leaf=8, min_samples_split=3, n_estimators=1400; total time=   0.0s\n",
      "[CV] END criterion=gini, max_depth=300, max_features=sqrt, min_samples_leaf=9, min_samples_split=5, n_estimators=1600; total time=   1.1s\n",
      "[CV] END criterion=gini, max_depth=100, max_features=sqrt, min_samples_leaf=9, min_samples_split=9, n_estimators=600; total time=   0.4s\n",
      "[CV] END criterion=gini, max_depth=100, max_features=sqrt, min_samples_leaf=9, min_samples_split=9, n_estimators=600; total time=   0.4s\n",
      "[CV] END criterion=entropy, max_depth=600, max_features=auto, min_samples_leaf=2, min_samples_split=9, n_estimators=200; total time=   0.0s\n",
      "[CV] END criterion=entropy, max_depth=600, max_features=auto, min_samples_leaf=2, min_samples_split=9, n_estimators=200; total time=   0.0s\n",
      "[CV] END criterion=gini, max_depth=800, max_features=log2, min_samples_leaf=2, min_samples_split=5, n_estimators=1800; total time=   1.5s\n",
      "[CV] END criterion=gini, max_depth=800, max_features=log2, min_samples_leaf=2, min_samples_split=5, n_estimators=1800; total time=   1.5s\n",
      "[CV] END criterion=entropy, max_depth=300, max_features=log2, min_samples_leaf=1, min_samples_split=1, n_estimators=1400; total time=   0.0s\n",
      "[CV] END criterion=entropy, max_depth=300, max_features=log2, min_samples_leaf=1, min_samples_split=1, n_estimators=1400; total time=   0.0s\n",
      "[CV] END criterion=entropy, max_depth=300, max_features=log2, min_samples_leaf=1, min_samples_split=1, n_estimators=1400; total time=   0.0s\n",
      "[CV] END criterion=gini, max_depth=600, max_features=sqrt, min_samples_leaf=5, min_samples_split=5, n_estimators=1000; total time=   0.7s\n",
      "[CV] END criterion=entropy, max_depth=100, max_features=auto, min_samples_leaf=2, min_samples_split=3, n_estimators=1400; total time=   0.0s\n"
     ]
    },
    {
     "data": {
      "text/html": [
       "<style>#sk-container-id-6 {color: black;}#sk-container-id-6 pre{padding: 0;}#sk-container-id-6 div.sk-toggleable {background-color: white;}#sk-container-id-6 label.sk-toggleable__label {cursor: pointer;display: block;width: 100%;margin-bottom: 0;padding: 0.3em;box-sizing: border-box;text-align: center;}#sk-container-id-6 label.sk-toggleable__label-arrow:before {content: \"▸\";float: left;margin-right: 0.25em;color: #696969;}#sk-container-id-6 label.sk-toggleable__label-arrow:hover:before {color: black;}#sk-container-id-6 div.sk-estimator:hover label.sk-toggleable__label-arrow:before {color: black;}#sk-container-id-6 div.sk-toggleable__content {max-height: 0;max-width: 0;overflow: hidden;text-align: left;background-color: #f0f8ff;}#sk-container-id-6 div.sk-toggleable__content pre {margin: 0.2em;color: black;border-radius: 0.25em;background-color: #f0f8ff;}#sk-container-id-6 input.sk-toggleable__control:checked~div.sk-toggleable__content {max-height: 200px;max-width: 100%;overflow: auto;}#sk-container-id-6 input.sk-toggleable__control:checked~label.sk-toggleable__label-arrow:before {content: \"▾\";}#sk-container-id-6 div.sk-estimator input.sk-toggleable__control:checked~label.sk-toggleable__label {background-color: #d4ebff;}#sk-container-id-6 div.sk-label input.sk-toggleable__control:checked~label.sk-toggleable__label {background-color: #d4ebff;}#sk-container-id-6 input.sk-hidden--visually {border: 0;clip: rect(1px 1px 1px 1px);clip: rect(1px, 1px, 1px, 1px);height: 1px;margin: -1px;overflow: hidden;padding: 0;position: absolute;width: 1px;}#sk-container-id-6 div.sk-estimator {font-family: monospace;background-color: #f0f8ff;border: 1px dotted black;border-radius: 0.25em;box-sizing: border-box;margin-bottom: 0.5em;}#sk-container-id-6 div.sk-estimator:hover {background-color: #d4ebff;}#sk-container-id-6 div.sk-parallel-item::after {content: \"\";width: 100%;border-bottom: 1px solid gray;flex-grow: 1;}#sk-container-id-6 div.sk-label:hover label.sk-toggleable__label {background-color: #d4ebff;}#sk-container-id-6 div.sk-serial::before {content: \"\";position: absolute;border-left: 1px solid gray;box-sizing: border-box;top: 0;bottom: 0;left: 50%;z-index: 0;}#sk-container-id-6 div.sk-serial {display: flex;flex-direction: column;align-items: center;background-color: white;padding-right: 0.2em;padding-left: 0.2em;position: relative;}#sk-container-id-6 div.sk-item {position: relative;z-index: 1;}#sk-container-id-6 div.sk-parallel {display: flex;align-items: stretch;justify-content: center;background-color: white;position: relative;}#sk-container-id-6 div.sk-item::before, #sk-container-id-6 div.sk-parallel-item::before {content: \"\";position: absolute;border-left: 1px solid gray;box-sizing: border-box;top: 0;bottom: 0;left: 50%;z-index: -1;}#sk-container-id-6 div.sk-parallel-item {display: flex;flex-direction: column;z-index: 1;position: relative;background-color: white;}#sk-container-id-6 div.sk-parallel-item:first-child::after {align-self: flex-end;width: 50%;}#sk-container-id-6 div.sk-parallel-item:last-child::after {align-self: flex-start;width: 50%;}#sk-container-id-6 div.sk-parallel-item:only-child::after {width: 0;}#sk-container-id-6 div.sk-dashed-wrapped {border: 1px dashed gray;margin: 0 0.4em 0.5em 0.4em;box-sizing: border-box;padding-bottom: 0.4em;background-color: white;}#sk-container-id-6 div.sk-label label {font-family: monospace;font-weight: bold;display: inline-block;line-height: 1.2em;}#sk-container-id-6 div.sk-label-container {text-align: center;}#sk-container-id-6 div.sk-container {/* jupyter's `normalize.less` sets `[hidden] { display: none; }` but bootstrap.min.css set `[hidden] { display: none !important; }` so we also need the `!important` here to be able to override the default hidden behavior on the sphinx rendered scikit-learn.org. See: https://github.com/scikit-learn/scikit-learn/issues/21755 */display: inline-block !important;position: relative;}#sk-container-id-6 div.sk-text-repr-fallback {display: none;}</style><div id=\"sk-container-id-6\" class=\"sk-top-container\"><div class=\"sk-text-repr-fallback\"><pre>RandomizedSearchCV(cv=3, estimator=RandomForestClassifier(), n_iter=100,\n",
       "                   n_jobs=-1,\n",
       "                   param_distributions={&#x27;criterion&#x27;: [&#x27;entropy&#x27;, &#x27;gini&#x27;],\n",
       "                                        &#x27;max_depth&#x27;: [100, 200, 300, 400, 500,\n",
       "                                                      600, 700, 800, 900,\n",
       "                                                      1000],\n",
       "                                        &#x27;max_features&#x27;: [&#x27;sqrt&#x27;, &#x27;log2&#x27;,\n",
       "                                                         &#x27;auto&#x27;],\n",
       "                                        &#x27;min_samples_leaf&#x27;: [1, 2, 5, 6, 8, 9],\n",
       "                                        &#x27;min_samples_split&#x27;: [1, 2, 3, 5, 7, 9],\n",
       "                                        &#x27;n_estimators&#x27;: [200, 400, 600, 800,\n",
       "                                                         1000, 1200, 1400, 1600,\n",
       "                                                         1800, 2000]},\n",
       "                   random_state=100, verbose=2)</pre><b>In a Jupyter environment, please rerun this cell to show the HTML representation or trust the notebook. <br />On GitHub, the HTML representation is unable to render, please try loading this page with nbviewer.org.</b></div><div class=\"sk-container\" hidden><div class=\"sk-item sk-dashed-wrapped\"><div class=\"sk-label-container\"><div class=\"sk-label sk-toggleable\"><input class=\"sk-toggleable__control sk-hidden--visually\" id=\"sk-estimator-id-14\" type=\"checkbox\" ><label for=\"sk-estimator-id-14\" class=\"sk-toggleable__label sk-toggleable__label-arrow\">RandomizedSearchCV</label><div class=\"sk-toggleable__content\"><pre>RandomizedSearchCV(cv=3, estimator=RandomForestClassifier(), n_iter=100,\n",
       "                   n_jobs=-1,\n",
       "                   param_distributions={&#x27;criterion&#x27;: [&#x27;entropy&#x27;, &#x27;gini&#x27;],\n",
       "                                        &#x27;max_depth&#x27;: [100, 200, 300, 400, 500,\n",
       "                                                      600, 700, 800, 900,\n",
       "                                                      1000],\n",
       "                                        &#x27;max_features&#x27;: [&#x27;sqrt&#x27;, &#x27;log2&#x27;,\n",
       "                                                         &#x27;auto&#x27;],\n",
       "                                        &#x27;min_samples_leaf&#x27;: [1, 2, 5, 6, 8, 9],\n",
       "                                        &#x27;min_samples_split&#x27;: [1, 2, 3, 5, 7, 9],\n",
       "                                        &#x27;n_estimators&#x27;: [200, 400, 600, 800,\n",
       "                                                         1000, 1200, 1400, 1600,\n",
       "                                                         1800, 2000]},\n",
       "                   random_state=100, verbose=2)</pre></div></div></div><div class=\"sk-parallel\"><div class=\"sk-parallel-item\"><div class=\"sk-item\"><div class=\"sk-label-container\"><div class=\"sk-label sk-toggleable\"><input class=\"sk-toggleable__control sk-hidden--visually\" id=\"sk-estimator-id-15\" type=\"checkbox\" ><label for=\"sk-estimator-id-15\" class=\"sk-toggleable__label sk-toggleable__label-arrow\">estimator: RandomForestClassifier</label><div class=\"sk-toggleable__content\"><pre>RandomForestClassifier()</pre></div></div></div><div class=\"sk-serial\"><div class=\"sk-item\"><div class=\"sk-estimator sk-toggleable\"><input class=\"sk-toggleable__control sk-hidden--visually\" id=\"sk-estimator-id-16\" type=\"checkbox\" ><label for=\"sk-estimator-id-16\" class=\"sk-toggleable__label sk-toggleable__label-arrow\">RandomForestClassifier</label><div class=\"sk-toggleable__content\"><pre>RandomForestClassifier()</pre></div></div></div></div></div></div></div></div></div></div>"
      ],
      "text/plain": [
       "RandomizedSearchCV(cv=3, estimator=RandomForestClassifier(), n_iter=100,\n",
       "                   n_jobs=-1,\n",
       "                   param_distributions={'criterion': ['entropy', 'gini'],\n",
       "                                        'max_depth': [100, 200, 300, 400, 500,\n",
       "                                                      600, 700, 800, 900,\n",
       "                                                      1000],\n",
       "                                        'max_features': ['sqrt', 'log2',\n",
       "                                                         'auto'],\n",
       "                                        'min_samples_leaf': [1, 2, 5, 6, 8, 9],\n",
       "                                        'min_samples_split': [1, 2, 3, 5, 7, 9],\n",
       "                                        'n_estimators': [200, 400, 600, 800,\n",
       "                                                         1000, 1200, 1400, 1600,\n",
       "                                                         1800, 2000]},\n",
       "                   random_state=100, verbose=2)"
      ]
     },
     "execution_count": 335,
     "metadata": {},
     "output_type": "execute_result"
    }
   ],
   "source": [
    "rs.fit(xtrain,ytrain)"
   ]
  },
  {
   "cell_type": "code",
   "execution_count": 336,
   "id": "30ef4530",
   "metadata": {},
   "outputs": [
    {
     "data": {
      "text/plain": [
       "{'n_estimators': 600,\n",
       " 'min_samples_split': 3,\n",
       " 'min_samples_leaf': 6,\n",
       " 'max_features': 'sqrt',\n",
       " 'max_depth': 100,\n",
       " 'criterion': 'gini'}"
      ]
     },
     "execution_count": 336,
     "metadata": {},
     "output_type": "execute_result"
    }
   ],
   "source": [
    "rs.best_params_"
   ]
  },
  {
   "cell_type": "code",
   "execution_count": 337,
   "id": "de9bdcfc",
   "metadata": {},
   "outputs": [],
   "source": [
    "est=rs.best_estimator_"
   ]
  },
  {
   "cell_type": "code",
   "execution_count": 338,
   "id": "06b0de05",
   "metadata": {},
   "outputs": [
    {
     "data": {
      "text/plain": [
       "0.7864583333333334"
      ]
     },
     "execution_count": 338,
     "metadata": {},
     "output_type": "execute_result"
    }
   ],
   "source": [
    "from sklearn.metrics import confusion_matrix,accuracy_score,classification_report\n",
    "ypred=est.predict(xtest)\n",
    "cm=confusion_matrix(ypred,ytest)\n",
    "ac=accuracy_score(ypred,ytest)\n",
    "ac"
   ]
  },
  {
   "cell_type": "code",
   "execution_count": null,
   "id": "d0cb5fd8",
   "metadata": {},
   "outputs": [],
   "source": []
  }
 ],
 "metadata": {
  "kernelspec": {
   "display_name": "Python 3 (ipykernel)",
   "language": "python",
   "name": "python3"
  },
  "language_info": {
   "codemirror_mode": {
    "name": "ipython",
    "version": 3
   },
   "file_extension": ".py",
   "mimetype": "text/x-python",
   "name": "python",
   "nbconvert_exporter": "python",
   "pygments_lexer": "ipython3",
   "version": "3.11.5"
  }
 },
 "nbformat": 4,
 "nbformat_minor": 5
}
